{
 "cells": [
  {
   "cell_type": "markdown",
   "id": "c22a96b8-6fb9-4800-8583-375125a7b231",
   "metadata": {},
   "source": [
    "### Part A - Tweets analysis and preprocessing"
   ]
  },
  {
   "cell_type": "code",
   "execution_count": 25,
   "id": "7620bbb7-f664-4015-bfd5-6dfd589ecbf6",
   "metadata": {},
   "outputs": [],
   "source": [
    "import pandas as pd \n",
    "# pd.set_option -- column width "
   ]
  },
  {
   "cell_type": "code",
   "execution_count": 23,
   "id": "390cbc17-be12-4bd5-b258-696c8b57be57",
   "metadata": {},
   "outputs": [],
   "source": [
    "train = pd.read_csv(\"Corona_NLP_train.csv\", encoding=\"latin-1\")\n",
    "test = pd.read_csv(\"Corona_NLP_test.csv\")"
   ]
  },
  {
   "cell_type": "markdown",
   "id": "013d5038-06a4-404b-8da2-9e88d3d6d847",
   "metadata": {},
   "source": [
    "We will apply few basic \"before \"EDA\" text pre-processing and stats to see how our treats look like and how much they aren't clean: \n",
    "* tweet length,\n",
    "* number of stopping words\n",
    "* number of '@' words\n",
    "* number of \"basic word count\"\n",
    "* number of emojis, urls, unknown signs etc\n",
    "* some basic lower casing, stemming(if necessary), regex if needed and for what\n",
    "\n",
    "We will look at some articles that talk about preparing dataset for an embedding format how much it affects the model if it is garbaged and not clean and how to perform text cleaning"
   ]
  },
  {
   "cell_type": "code",
   "execution_count": 24,
   "id": "31aa197f-05a7-4b66-a26d-d27ff1e4586e",
   "metadata": {},
   "outputs": [
    {
     "data": {
      "text/plain": [
       "4       #toiletpaper #dunnypaper #coronavirus #coronav...\n",
       "5       Do you remember the last time you paid $2.99 a...\n",
       "7       @DrTedros \"We cant stop #COVID19 without prot...\n",
       "17      When youre stockpiling food &amp; other suppl...\n",
       "34      So not due to #Brexit at all then &gt;&gt; Sup...\n",
       "                              ...                        \n",
       "3774    The financial &amp; economic impact of COVID-1...\n",
       "3777    Waiting in a line in 1 meter distance from eac...\n",
       "3778    In light of the ongoing and rapidly evolving C...\n",
       "3788    You never eaten the pigs cat dog or food from ...\n",
       "3795    Asst Prof of Economics @cconces was on @NBCPhi...\n",
       "Name: OriginalTweet, Length: 619, dtype: object"
      ]
     },
     "execution_count": 24,
     "metadata": {},
     "output_type": "execute_result"
    }
   ],
   "source": [
    "train[train['Sentiment'] == 'Neutral']['OriginalTweet']\n",
    "test[test['Sentiment'] == 'Neutral']['OriginalTweet']"
   ]
  },
  {
   "cell_type": "code",
   "execution_count": null,
   "id": "1f81487e-8f37-468f-99c7-b891f21cb5db",
   "metadata": {},
   "outputs": [],
   "source": []
  }
 ],
 "metadata": {
  "kernelspec": {
   "display_name": "Python 3 (ipykernel)",
   "language": "python",
   "name": "python3"
  },
  "language_info": {
   "codemirror_mode": {
    "name": "ipython",
    "version": 3
   },
   "file_extension": ".py",
   "mimetype": "text/x-python",
   "name": "python",
   "nbconvert_exporter": "python",
   "pygments_lexer": "ipython3",
   "version": "3.12.11"
  },
  "widgets": {
   "application/vnd.jupyter.widget-state+json": {
    "state": {},
    "version_major": 2,
    "version_minor": 0
   }
  }
 },
 "nbformat": 4,
 "nbformat_minor": 5
}
