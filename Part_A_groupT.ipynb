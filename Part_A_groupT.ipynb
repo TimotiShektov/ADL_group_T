{
 "cells": [
  {
   "cell_type": "markdown",
   "id": "c22a96b8-6fb9-4800-8583-375125a7b231",
   "metadata": {},
   "source": [
    "### Part A - Tweets analysis and preprocessing"
   ]
  },
  {
   "cell_type": "code",
   "execution_count": 45,
   "id": "7620bbb7-f664-4015-bfd5-6dfd589ecbf6",
   "metadata": {
    "scrolled": true
   },
   "outputs": [],
   "source": [
    "%%capture \n",
    "import pandas as pd \n",
    "from decouple import Config, RepositoryEnv \n",
    "pd.set_option('display.max_colwidth', None)\n",
    "wandb.login(key=Config(RepositoryEnv(\"./.env\")).get('wandb_api_key'));"
   ]
  },
  {
   "cell_type": "code",
   "execution_count": 42,
   "id": "390cbc17-be12-4bd5-b258-696c8b57be57",
   "metadata": {},
   "outputs": [],
   "source": [
    "train_org = pd.read_csv(\"Corona_NLP_train.csv\", encoding=\"latin-1\"); train = train_org.loc[:, ['OriginalTweet', 'Sentiment']]\n",
    "test_org = pd.read_csv(\"Corona_NLP_test.csv\"); test = test_org.loc[:, ['OriginalTweet', 'Sentiment']]"
   ]
  },
  {
   "cell_type": "markdown",
   "id": "013d5038-06a4-404b-8da2-9e88d3d6d847",
   "metadata": {},
   "source": [
    "We will apply few basic \"before \"EDA\" text pre-processing and stats to see how our treats look like and how much they aren't clean: \n",
    "* tweet length,\n",
    "* number of stopping words\n",
    "* number of '@' words\n",
    "* number of \"basic word count\"\n",
    "* number of emojis, urls, unknown signs etc\n",
    "* some basic lower casing, stemming(if necessary), regex if needed and for what\n",
    "\n",
    "We will look at some articles that talk about preparing dataset for an embedding format how much it affects the model if it is garbaged and not clean and how to perform text cleaning"
   ]
  },
  {
   "cell_type": "code",
   "execution_count": 45,
   "id": "31aa197f-05a7-4b66-a26d-d27ff1e4586e",
   "metadata": {},
   "outputs": [
    {
     "data": {
      "text/plain": [
       "4       #toiletpaper #dunnypaper #coronavirus #coronav...\n",
       "5       Do you remember the last time you paid $2.99 a...\n",
       "7       @DrTedros \"We cant stop #COVID19 without prot...\n",
       "17      When youre stockpiling food &amp; other suppl...\n",
       "34      So not due to #Brexit at all then &gt;&gt; Sup...\n",
       "                              ...                        \n",
       "3774    The financial &amp; economic impact of COVID-1...\n",
       "3777    Waiting in a line in 1 meter distance from eac...\n",
       "3778    In light of the ongoing and rapidly evolving C...\n",
       "3788    You never eaten the pigs cat dog or food from ...\n",
       "3795    Asst Prof of Economics @cconces was on @NBCPhi...\n",
       "Name: OriginalTweet, Length: 619, dtype: object"
      ]
     },
     "execution_count": 45,
     "metadata": {},
     "output_type": "execute_result"
    }
   ],
   "source": [
    "train[train['Sentiment'] == 'Neutral']['OriginalTweet']\n",
    "test[test['Sentiment'] == 'Neutral']['OriginalTweet']"
   ]
  },
  {
   "cell_type": "code",
   "execution_count": 51,
   "id": "1f81487e-8f37-468f-99c7-b891f21cb5db",
   "metadata": {},
   "outputs": [
    {
     "data": {
      "text/html": [
       "<div>\n",
       "<style scoped>\n",
       "    .dataframe tbody tr th:only-of-type {\n",
       "        vertical-align: middle;\n",
       "    }\n",
       "\n",
       "    .dataframe tbody tr th {\n",
       "        vertical-align: top;\n",
       "    }\n",
       "\n",
       "    .dataframe thead th {\n",
       "        text-align: right;\n",
       "    }\n",
       "</style>\n",
       "<table border=\"1\" class=\"dataframe\">\n",
       "  <thead>\n",
       "    <tr style=\"text-align: right;\">\n",
       "      <th></th>\n",
       "      <th>UserName</th>\n",
       "      <th>ScreenName</th>\n",
       "      <th>Location</th>\n",
       "      <th>TweetAt</th>\n",
       "      <th>OriginalTweet</th>\n",
       "      <th>Sentiment</th>\n",
       "    </tr>\n",
       "  </thead>\n",
       "  <tbody>\n",
       "    <tr>\n",
       "      <th>0</th>\n",
       "      <td>3799</td>\n",
       "      <td>48751</td>\n",
       "      <td>London</td>\n",
       "      <td>16-03-2020</td>\n",
       "      <td>@MeNyrbie @Phil_Gahan @Chrisitv https://t.co/iFz9FAn2Pa and https://t.co/xX6ghGFzCC and https://t.co/I2NlzdxNo8</td>\n",
       "      <td>Neutral</td>\n",
       "    </tr>\n",
       "    <tr>\n",
       "      <th>1</th>\n",
       "      <td>3800</td>\n",
       "      <td>48752</td>\n",
       "      <td>UK</td>\n",
       "      <td>16-03-2020</td>\n",
       "      <td>advice Talk to your neighbours family to exchange phone numbers create contact list with phone numbers of neighbours schools employer chemist GP set up online shopping accounts if poss adequate supplies of regular meds but not over order</td>\n",
       "      <td>Positive</td>\n",
       "    </tr>\n",
       "    <tr>\n",
       "      <th>2</th>\n",
       "      <td>3801</td>\n",
       "      <td>48753</td>\n",
       "      <td>Vagabonds</td>\n",
       "      <td>16-03-2020</td>\n",
       "      <td>Coronavirus Australia: Woolworths to give elderly, disabled dedicated shopping hours amid COVID-19 outbreak https://t.co/bInCA9Vp8P</td>\n",
       "      <td>Positive</td>\n",
       "    </tr>\n",
       "    <tr>\n",
       "      <th>3</th>\n",
       "      <td>3802</td>\n",
       "      <td>48754</td>\n",
       "      <td>NaN</td>\n",
       "      <td>16-03-2020</td>\n",
       "      <td>My food stock is not the only one which is empty...\\r\\r\\n\\r\\r\\nPLEASE, don't panic, THERE WILL BE ENOUGH FOOD FOR EVERYONE if you do not take more than you need. \\r\\r\\nStay calm, stay safe.\\r\\r\\n\\r\\r\\n#COVID19france #COVID_19 #COVID19 #coronavirus #confinement #Confinementotal #ConfinementGeneral https://t.co/zrlG0Z520j</td>\n",
       "      <td>Positive</td>\n",
       "    </tr>\n",
       "    <tr>\n",
       "      <th>4</th>\n",
       "      <td>3803</td>\n",
       "      <td>48755</td>\n",
       "      <td>NaN</td>\n",
       "      <td>16-03-2020</td>\n",
       "      <td>Me, ready to go at supermarket during the #COVID19 outbreak.\\r\\r\\n\\r\\r\\nNot because I'm paranoid, but because my food stock is litteraly empty. The #coronavirus is a serious thing, but please, don't panic. It causes shortage...\\r\\r\\n\\r\\r\\n#CoronavirusFrance #restezchezvous #StayAtHome #confinement https://t.co/usmuaLq72n</td>\n",
       "      <td>Extremely Negative</td>\n",
       "    </tr>\n",
       "  </tbody>\n",
       "</table>\n",
       "</div>"
      ],
      "text/plain": [
       "   UserName  ScreenName   Location     TweetAt                                                                                                                                                                                                                                                                                                                       OriginalTweet           Sentiment\n",
       "0      3799       48751     London  16-03-2020                                                                                                                                                                                                                     @MeNyrbie @Phil_Gahan @Chrisitv https://t.co/iFz9FAn2Pa and https://t.co/xX6ghGFzCC and https://t.co/I2NlzdxNo8             Neutral\n",
       "1      3800       48752         UK  16-03-2020                                                                                       advice Talk to your neighbours family to exchange phone numbers create contact list with phone numbers of neighbours schools employer chemist GP set up online shopping accounts if poss adequate supplies of regular meds but not over order            Positive\n",
       "2      3801       48753  Vagabonds  16-03-2020                                                                                                                                                                                                 Coronavirus Australia: Woolworths to give elderly, disabled dedicated shopping hours amid COVID-19 outbreak https://t.co/bInCA9Vp8P            Positive\n",
       "3      3802       48754        NaN  16-03-2020   My food stock is not the only one which is empty...\\r\\r\\n\\r\\r\\nPLEASE, don't panic, THERE WILL BE ENOUGH FOOD FOR EVERYONE if you do not take more than you need. \\r\\r\\nStay calm, stay safe.\\r\\r\\n\\r\\r\\n#COVID19france #COVID_19 #COVID19 #coronavirus #confinement #Confinementotal #ConfinementGeneral https://t.co/zrlG0Z520j            Positive\n",
       "4      3803       48755        NaN  16-03-2020  Me, ready to go at supermarket during the #COVID19 outbreak.\\r\\r\\n\\r\\r\\nNot because I'm paranoid, but because my food stock is litteraly empty. The #coronavirus is a serious thing, but please, don't panic. It causes shortage...\\r\\r\\n\\r\\r\\n#CoronavirusFrance #restezchezvous #StayAtHome #confinement https://t.co/usmuaLq72n  Extremely Negative"
      ]
     },
     "execution_count": 51,
     "metadata": {},
     "output_type": "execute_result"
    }
   ],
   "source": [
    "train.head()"
   ]
  },
  {
   "cell_type": "code",
   "execution_count": null,
   "id": "b1179300-5cf2-4602-b28f-b813161ab134",
   "metadata": {},
   "outputs": [],
   "source": []
  }
 ],
 "metadata": {
  "kernelspec": {
   "display_name": "Python 3 (ipykernel)",
   "language": "python",
   "name": "python3"
  },
  "language_info": {
   "codemirror_mode": {
    "name": "ipython",
    "version": 3
   },
   "file_extension": ".py",
   "mimetype": "text/x-python",
   "name": "python",
   "nbconvert_exporter": "python",
   "pygments_lexer": "ipython3",
   "version": "3.12.11"
  },
  "widgets": {
   "application/vnd.jupyter.widget-state+json": {
    "state": {},
    "version_major": 2,
    "version_minor": 0
   }
  }
 },
 "nbformat": 4,
 "nbformat_minor": 5
}
